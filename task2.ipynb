{
 "cells": [
  {
   "cell_type": "code",
   "execution_count": 1,
   "metadata": {
    "collapsed": true
   },
   "outputs": [],
   "source": [
    "import pandas as pd\n",
    "import numpy as np\n",
    "import datetime as dt"
   ]
  },
  {
   "cell_type": "markdown",
   "metadata": {},
   "source": [
    "# Reading data"
   ]
  },
  {
   "cell_type": "code",
   "execution_count": 56,
   "metadata": {
    "collapsed": true
   },
   "outputs": [],
   "source": [
    "file_path = 'AAPL.csv'\n",
    "dataDF = pd.read_csv(file_path)"
   ]
  },
  {
   "cell_type": "markdown",
   "metadata": {},
   "source": [
    "# Adding \"day_of_week\" column"
   ]
  },
  {
   "cell_type": "code",
   "execution_count": 3,
   "metadata": {
    "collapsed": true
   },
   "outputs": [],
   "source": [
    "dataDF['Date'] = pd.to_datetime(dataDF['Date'])\n",
    "dataDF['day_of_week'] = dataDF['Date'].dt.weekday_name"
   ]
  },
  {
   "cell_type": "code",
   "execution_count": 4,
   "metadata": {},
   "outputs": [
    {
     "data": {
      "text/html": [
       "<div>\n",
       "<style>\n",
       "    .dataframe thead tr:only-child th {\n",
       "        text-align: right;\n",
       "    }\n",
       "\n",
       "    .dataframe thead th {\n",
       "        text-align: left;\n",
       "    }\n",
       "\n",
       "    .dataframe tbody tr th {\n",
       "        vertical-align: top;\n",
       "    }\n",
       "</style>\n",
       "<table border=\"1\" class=\"dataframe\">\n",
       "  <thead>\n",
       "    <tr style=\"text-align: right;\">\n",
       "      <th></th>\n",
       "      <th>Date</th>\n",
       "      <th>Open</th>\n",
       "      <th>High</th>\n",
       "      <th>Low</th>\n",
       "      <th>Close</th>\n",
       "      <th>Adj Close</th>\n",
       "      <th>Volume</th>\n",
       "      <th>day_of_week</th>\n",
       "    </tr>\n",
       "  </thead>\n",
       "  <tbody>\n",
       "    <tr>\n",
       "      <th>0</th>\n",
       "      <td>2018-07-09</td>\n",
       "      <td>189.500000</td>\n",
       "      <td>190.679993</td>\n",
       "      <td>189.300003</td>\n",
       "      <td>190.580002</td>\n",
       "      <td>190.580002</td>\n",
       "      <td>19756600</td>\n",
       "      <td>Monday</td>\n",
       "    </tr>\n",
       "    <tr>\n",
       "      <th>1</th>\n",
       "      <td>2018-07-10</td>\n",
       "      <td>190.710007</td>\n",
       "      <td>191.279999</td>\n",
       "      <td>190.179993</td>\n",
       "      <td>190.350006</td>\n",
       "      <td>190.350006</td>\n",
       "      <td>15939100</td>\n",
       "      <td>Tuesday</td>\n",
       "    </tr>\n",
       "    <tr>\n",
       "      <th>2</th>\n",
       "      <td>2018-07-11</td>\n",
       "      <td>188.500000</td>\n",
       "      <td>189.779999</td>\n",
       "      <td>187.610001</td>\n",
       "      <td>187.880005</td>\n",
       "      <td>187.880005</td>\n",
       "      <td>18831500</td>\n",
       "      <td>Wednesday</td>\n",
       "    </tr>\n",
       "    <tr>\n",
       "      <th>3</th>\n",
       "      <td>2018-07-12</td>\n",
       "      <td>189.529999</td>\n",
       "      <td>191.410004</td>\n",
       "      <td>189.309998</td>\n",
       "      <td>191.029999</td>\n",
       "      <td>191.029999</td>\n",
       "      <td>18041100</td>\n",
       "      <td>Thursday</td>\n",
       "    </tr>\n",
       "    <tr>\n",
       "      <th>4</th>\n",
       "      <td>2018-07-13</td>\n",
       "      <td>191.080002</td>\n",
       "      <td>191.839996</td>\n",
       "      <td>190.899994</td>\n",
       "      <td>191.330002</td>\n",
       "      <td>191.330002</td>\n",
       "      <td>12513900</td>\n",
       "      <td>Friday</td>\n",
       "    </tr>\n",
       "    <tr>\n",
       "      <th>5</th>\n",
       "      <td>2018-07-16</td>\n",
       "      <td>191.520004</td>\n",
       "      <td>192.649994</td>\n",
       "      <td>190.419998</td>\n",
       "      <td>190.910004</td>\n",
       "      <td>190.910004</td>\n",
       "      <td>15043100</td>\n",
       "      <td>Monday</td>\n",
       "    </tr>\n",
       "    <tr>\n",
       "      <th>6</th>\n",
       "      <td>2018-07-17</td>\n",
       "      <td>189.750000</td>\n",
       "      <td>191.869995</td>\n",
       "      <td>189.199997</td>\n",
       "      <td>191.449997</td>\n",
       "      <td>191.449997</td>\n",
       "      <td>15534500</td>\n",
       "      <td>Tuesday</td>\n",
       "    </tr>\n",
       "    <tr>\n",
       "      <th>7</th>\n",
       "      <td>2018-07-18</td>\n",
       "      <td>191.779999</td>\n",
       "      <td>191.800003</td>\n",
       "      <td>189.929993</td>\n",
       "      <td>190.399994</td>\n",
       "      <td>190.399994</td>\n",
       "      <td>16393400</td>\n",
       "      <td>Wednesday</td>\n",
       "    </tr>\n",
       "    <tr>\n",
       "      <th>8</th>\n",
       "      <td>2018-07-19</td>\n",
       "      <td>189.690002</td>\n",
       "      <td>192.550003</td>\n",
       "      <td>189.690002</td>\n",
       "      <td>191.880005</td>\n",
       "      <td>191.880005</td>\n",
       "      <td>20286800</td>\n",
       "      <td>Thursday</td>\n",
       "    </tr>\n",
       "    <tr>\n",
       "      <th>9</th>\n",
       "      <td>2018-07-20</td>\n",
       "      <td>191.779999</td>\n",
       "      <td>192.429993</td>\n",
       "      <td>190.169998</td>\n",
       "      <td>191.440002</td>\n",
       "      <td>191.440002</td>\n",
       "      <td>20676200</td>\n",
       "      <td>Friday</td>\n",
       "    </tr>\n",
       "  </tbody>\n",
       "</table>\n",
       "</div>"
      ],
      "text/plain": [
       "        Date        Open        High         Low       Close   Adj Close  \\\n",
       "0 2018-07-09  189.500000  190.679993  189.300003  190.580002  190.580002   \n",
       "1 2018-07-10  190.710007  191.279999  190.179993  190.350006  190.350006   \n",
       "2 2018-07-11  188.500000  189.779999  187.610001  187.880005  187.880005   \n",
       "3 2018-07-12  189.529999  191.410004  189.309998  191.029999  191.029999   \n",
       "4 2018-07-13  191.080002  191.839996  190.899994  191.330002  191.330002   \n",
       "5 2018-07-16  191.520004  192.649994  190.419998  190.910004  190.910004   \n",
       "6 2018-07-17  189.750000  191.869995  189.199997  191.449997  191.449997   \n",
       "7 2018-07-18  191.779999  191.800003  189.929993  190.399994  190.399994   \n",
       "8 2018-07-19  189.690002  192.550003  189.690002  191.880005  191.880005   \n",
       "9 2018-07-20  191.779999  192.429993  190.169998  191.440002  191.440002   \n",
       "\n",
       "     Volume day_of_week  \n",
       "0  19756600      Monday  \n",
       "1  15939100     Tuesday  \n",
       "2  18831500   Wednesday  \n",
       "3  18041100    Thursday  \n",
       "4  12513900      Friday  \n",
       "5  15043100      Monday  \n",
       "6  15534500     Tuesday  \n",
       "7  16393400   Wednesday  \n",
       "8  20286800    Thursday  \n",
       "9  20676200      Friday  "
      ]
     },
     "execution_count": 4,
     "metadata": {},
     "output_type": "execute_result"
    }
   ],
   "source": [
    "dataDF.head(10)"
   ]
  },
  {
   "cell_type": "markdown",
   "metadata": {},
   "source": [
    "# Adding \"same_day_delta\" column"
   ]
  },
  {
   "cell_type": "code",
   "execution_count": 4,
   "metadata": {
    "collapsed": true
   },
   "outputs": [],
   "source": [
    "dataDF['same_day_deta'] = dataDF['Open'].sub(dataDF['Close']).apply(lambda x:x/100)"
   ]
  },
  {
   "cell_type": "code",
   "execution_count": 7,
   "metadata": {},
   "outputs": [
    {
     "data": {
      "text/plain": [
       "0   -0.0108\n",
       "1    0.0036\n",
       "2    0.0062\n",
       "3   -0.0150\n",
       "4   -0.0025\n",
       "5    0.0061\n",
       "6   -0.0170\n",
       "7    0.0138\n",
       "8   -0.0219\n",
       "9    0.0034\n",
       "Name: same_day_deta, dtype: float64"
      ]
     },
     "execution_count": 7,
     "metadata": {},
     "output_type": "execute_result"
    }
   ],
   "source": [
    "dataDF['same_day_deta'].head(10)"
   ]
  },
  {
   "cell_type": "markdown",
   "metadata": {},
   "source": [
    "# Adding \"same_day_strategy\" column"
   ]
  },
  {
   "cell_type": "code",
   "execution_count": 5,
   "metadata": {
    "collapsed": true
   },
   "outputs": [],
   "source": [
    "dataDF['same_day_strategy'] = dataDF['same_day_deta'].apply(lambda x: 1 if x > 0.0 else 0)"
   ]
  },
  {
   "cell_type": "markdown",
   "metadata": {},
   "source": [
    "# Adding \"next_close_delta\" column "
   ]
  },
  {
   "cell_type": "code",
   "execution_count": 6,
   "metadata": {
    "collapsed": true,
    "scrolled": true
   },
   "outputs": [],
   "source": [
    "def percentageChange(df, columnName):\n",
    "    df['next_close_delta'] = np.nan\n",
    "    for index in range(df.shape[0]):\n",
    "        if(index == 0):\n",
    "            continue\n",
    "        else:\n",
    "            df.at[index,'next_close_delta'] = ((df[columnName][index] - df[columnName][index-1]) / df[columnName][index])*100\n",
    "                \n",
    "        "
   ]
  },
  {
   "cell_type": "code",
   "execution_count": 7,
   "metadata": {
    "collapsed": true
   },
   "outputs": [],
   "source": [
    "percentageChange(dataDF, 'Close')"
   ]
  },
  {
   "cell_type": "markdown",
   "metadata": {},
   "source": [
    "# Adding \"next_column_strategy\" column"
   ]
  },
  {
   "cell_type": "code",
   "execution_count": 8,
   "metadata": {
    "collapsed": true
   },
   "outputs": [],
   "source": [
    "dataDF['next_column_strategy'] = np.where(dataDF['next_close_delta']<=0.1, 0, 1)"
   ]
  },
  {
   "cell_type": "code",
   "execution_count": 9,
   "metadata": {
    "scrolled": true
   },
   "outputs": [
    {
     "data": {
      "text/html": [
       "<div>\n",
       "<style>\n",
       "    .dataframe thead tr:only-child th {\n",
       "        text-align: right;\n",
       "    }\n",
       "\n",
       "    .dataframe thead th {\n",
       "        text-align: left;\n",
       "    }\n",
       "\n",
       "    .dataframe tbody tr th {\n",
       "        vertical-align: top;\n",
       "    }\n",
       "</style>\n",
       "<table border=\"1\" class=\"dataframe\">\n",
       "  <thead>\n",
       "    <tr style=\"text-align: right;\">\n",
       "      <th></th>\n",
       "      <th>Date</th>\n",
       "      <th>Open</th>\n",
       "      <th>High</th>\n",
       "      <th>Low</th>\n",
       "      <th>Close</th>\n",
       "      <th>Adj Close</th>\n",
       "      <th>Volume</th>\n",
       "      <th>day_of_week</th>\n",
       "      <th>same_day_deta</th>\n",
       "      <th>same_day_strategy</th>\n",
       "      <th>next_close_delta</th>\n",
       "      <th>next_column_strategy</th>\n",
       "    </tr>\n",
       "  </thead>\n",
       "  <tbody>\n",
       "    <tr>\n",
       "      <th>0</th>\n",
       "      <td>2018-07-09</td>\n",
       "      <td>189.500000</td>\n",
       "      <td>190.679993</td>\n",
       "      <td>189.300003</td>\n",
       "      <td>190.580002</td>\n",
       "      <td>190.580002</td>\n",
       "      <td>19756600</td>\n",
       "      <td>Monday</td>\n",
       "      <td>-0.0108</td>\n",
       "      <td>0</td>\n",
       "      <td>NaN</td>\n",
       "      <td>1</td>\n",
       "    </tr>\n",
       "    <tr>\n",
       "      <th>1</th>\n",
       "      <td>2018-07-10</td>\n",
       "      <td>190.710007</td>\n",
       "      <td>191.279999</td>\n",
       "      <td>190.179993</td>\n",
       "      <td>190.350006</td>\n",
       "      <td>190.350006</td>\n",
       "      <td>15939100</td>\n",
       "      <td>Tuesday</td>\n",
       "      <td>0.0036</td>\n",
       "      <td>1</td>\n",
       "      <td>-0.120828</td>\n",
       "      <td>0</td>\n",
       "    </tr>\n",
       "    <tr>\n",
       "      <th>2</th>\n",
       "      <td>2018-07-11</td>\n",
       "      <td>188.500000</td>\n",
       "      <td>189.779999</td>\n",
       "      <td>187.610001</td>\n",
       "      <td>187.880005</td>\n",
       "      <td>187.880005</td>\n",
       "      <td>18831500</td>\n",
       "      <td>Wednesday</td>\n",
       "      <td>0.0062</td>\n",
       "      <td>1</td>\n",
       "      <td>-1.314669</td>\n",
       "      <td>0</td>\n",
       "    </tr>\n",
       "    <tr>\n",
       "      <th>3</th>\n",
       "      <td>2018-07-12</td>\n",
       "      <td>189.529999</td>\n",
       "      <td>191.410004</td>\n",
       "      <td>189.309998</td>\n",
       "      <td>191.029999</td>\n",
       "      <td>191.029999</td>\n",
       "      <td>18041100</td>\n",
       "      <td>Thursday</td>\n",
       "      <td>-0.0150</td>\n",
       "      <td>0</td>\n",
       "      <td>1.648953</td>\n",
       "      <td>1</td>\n",
       "    </tr>\n",
       "    <tr>\n",
       "      <th>4</th>\n",
       "      <td>2018-07-13</td>\n",
       "      <td>191.080002</td>\n",
       "      <td>191.839996</td>\n",
       "      <td>190.899994</td>\n",
       "      <td>191.330002</td>\n",
       "      <td>191.330002</td>\n",
       "      <td>12513900</td>\n",
       "      <td>Friday</td>\n",
       "      <td>-0.0025</td>\n",
       "      <td>0</td>\n",
       "      <td>0.156799</td>\n",
       "      <td>1</td>\n",
       "    </tr>\n",
       "    <tr>\n",
       "      <th>5</th>\n",
       "      <td>2018-07-16</td>\n",
       "      <td>191.520004</td>\n",
       "      <td>192.649994</td>\n",
       "      <td>190.419998</td>\n",
       "      <td>190.910004</td>\n",
       "      <td>190.910004</td>\n",
       "      <td>15043100</td>\n",
       "      <td>Monday</td>\n",
       "      <td>0.0061</td>\n",
       "      <td>1</td>\n",
       "      <td>-0.219998</td>\n",
       "      <td>0</td>\n",
       "    </tr>\n",
       "    <tr>\n",
       "      <th>6</th>\n",
       "      <td>2018-07-17</td>\n",
       "      <td>189.750000</td>\n",
       "      <td>191.869995</td>\n",
       "      <td>189.199997</td>\n",
       "      <td>191.449997</td>\n",
       "      <td>191.449997</td>\n",
       "      <td>15534500</td>\n",
       "      <td>Tuesday</td>\n",
       "      <td>-0.0170</td>\n",
       "      <td>0</td>\n",
       "      <td>0.282054</td>\n",
       "      <td>1</td>\n",
       "    </tr>\n",
       "    <tr>\n",
       "      <th>7</th>\n",
       "      <td>2018-07-18</td>\n",
       "      <td>191.779999</td>\n",
       "      <td>191.800003</td>\n",
       "      <td>189.929993</td>\n",
       "      <td>190.399994</td>\n",
       "      <td>190.399994</td>\n",
       "      <td>16393400</td>\n",
       "      <td>Wednesday</td>\n",
       "      <td>0.0138</td>\n",
       "      <td>1</td>\n",
       "      <td>-0.551472</td>\n",
       "      <td>0</td>\n",
       "    </tr>\n",
       "    <tr>\n",
       "      <th>8</th>\n",
       "      <td>2018-07-19</td>\n",
       "      <td>189.690002</td>\n",
       "      <td>192.550003</td>\n",
       "      <td>189.690002</td>\n",
       "      <td>191.880005</td>\n",
       "      <td>191.880005</td>\n",
       "      <td>20286800</td>\n",
       "      <td>Thursday</td>\n",
       "      <td>-0.0219</td>\n",
       "      <td>0</td>\n",
       "      <td>0.771321</td>\n",
       "      <td>1</td>\n",
       "    </tr>\n",
       "    <tr>\n",
       "      <th>9</th>\n",
       "      <td>2018-07-20</td>\n",
       "      <td>191.779999</td>\n",
       "      <td>192.429993</td>\n",
       "      <td>190.169998</td>\n",
       "      <td>191.440002</td>\n",
       "      <td>191.440002</td>\n",
       "      <td>20676200</td>\n",
       "      <td>Friday</td>\n",
       "      <td>0.0034</td>\n",
       "      <td>1</td>\n",
       "      <td>-0.229839</td>\n",
       "      <td>0</td>\n",
       "    </tr>\n",
       "    <tr>\n",
       "      <th>10</th>\n",
       "      <td>2018-07-23</td>\n",
       "      <td>190.679993</td>\n",
       "      <td>191.960007</td>\n",
       "      <td>189.559998</td>\n",
       "      <td>191.610001</td>\n",
       "      <td>191.610001</td>\n",
       "      <td>15989400</td>\n",
       "      <td>Monday</td>\n",
       "      <td>-0.0093</td>\n",
       "      <td>0</td>\n",
       "      <td>0.088721</td>\n",
       "      <td>0</td>\n",
       "    </tr>\n",
       "    <tr>\n",
       "      <th>11</th>\n",
       "      <td>2018-07-24</td>\n",
       "      <td>192.449997</td>\n",
       "      <td>193.660004</td>\n",
       "      <td>192.050003</td>\n",
       "      <td>193.000000</td>\n",
       "      <td>193.000000</td>\n",
       "      <td>18697900</td>\n",
       "      <td>Tuesday</td>\n",
       "      <td>-0.0055</td>\n",
       "      <td>0</td>\n",
       "      <td>0.720207</td>\n",
       "      <td>1</td>\n",
       "    </tr>\n",
       "    <tr>\n",
       "      <th>12</th>\n",
       "      <td>2018-07-25</td>\n",
       "      <td>193.059998</td>\n",
       "      <td>194.850006</td>\n",
       "      <td>192.429993</td>\n",
       "      <td>194.820007</td>\n",
       "      <td>194.820007</td>\n",
       "      <td>16709900</td>\n",
       "      <td>Wednesday</td>\n",
       "      <td>-0.0176</td>\n",
       "      <td>0</td>\n",
       "      <td>0.934199</td>\n",
       "      <td>1</td>\n",
       "    </tr>\n",
       "    <tr>\n",
       "      <th>13</th>\n",
       "      <td>2018-07-26</td>\n",
       "      <td>194.610001</td>\n",
       "      <td>195.960007</td>\n",
       "      <td>193.610001</td>\n",
       "      <td>194.210007</td>\n",
       "      <td>194.210007</td>\n",
       "      <td>19076000</td>\n",
       "      <td>Thursday</td>\n",
       "      <td>0.0040</td>\n",
       "      <td>1</td>\n",
       "      <td>-0.314093</td>\n",
       "      <td>0</td>\n",
       "    </tr>\n",
       "    <tr>\n",
       "      <th>14</th>\n",
       "      <td>2018-07-27</td>\n",
       "      <td>194.990005</td>\n",
       "      <td>195.190002</td>\n",
       "      <td>190.100006</td>\n",
       "      <td>190.979996</td>\n",
       "      <td>190.979996</td>\n",
       "      <td>24024000</td>\n",
       "      <td>Friday</td>\n",
       "      <td>0.0401</td>\n",
       "      <td>1</td>\n",
       "      <td>-1.691282</td>\n",
       "      <td>0</td>\n",
       "    </tr>\n",
       "    <tr>\n",
       "      <th>15</th>\n",
       "      <td>2018-07-30</td>\n",
       "      <td>191.899994</td>\n",
       "      <td>192.199997</td>\n",
       "      <td>189.070007</td>\n",
       "      <td>189.910004</td>\n",
       "      <td>189.910004</td>\n",
       "      <td>21029500</td>\n",
       "      <td>Monday</td>\n",
       "      <td>0.0199</td>\n",
       "      <td>1</td>\n",
       "      <td>-0.563421</td>\n",
       "      <td>0</td>\n",
       "    </tr>\n",
       "    <tr>\n",
       "      <th>16</th>\n",
       "      <td>2018-07-31</td>\n",
       "      <td>190.300003</td>\n",
       "      <td>192.139999</td>\n",
       "      <td>189.339996</td>\n",
       "      <td>190.289993</td>\n",
       "      <td>190.289993</td>\n",
       "      <td>39373000</td>\n",
       "      <td>Tuesday</td>\n",
       "      <td>0.0001</td>\n",
       "      <td>1</td>\n",
       "      <td>0.199689</td>\n",
       "      <td>1</td>\n",
       "    </tr>\n",
       "    <tr>\n",
       "      <th>17</th>\n",
       "      <td>2018-08-01</td>\n",
       "      <td>199.130005</td>\n",
       "      <td>201.759995</td>\n",
       "      <td>197.309998</td>\n",
       "      <td>201.500000</td>\n",
       "      <td>201.500000</td>\n",
       "      <td>67935700</td>\n",
       "      <td>Wednesday</td>\n",
       "      <td>-0.0237</td>\n",
       "      <td>0</td>\n",
       "      <td>5.563279</td>\n",
       "      <td>1</td>\n",
       "    </tr>\n",
       "    <tr>\n",
       "      <th>18</th>\n",
       "      <td>2018-08-02</td>\n",
       "      <td>200.580002</td>\n",
       "      <td>208.380005</td>\n",
       "      <td>200.350006</td>\n",
       "      <td>207.389999</td>\n",
       "      <td>207.389999</td>\n",
       "      <td>62404000</td>\n",
       "      <td>Thursday</td>\n",
       "      <td>-0.0681</td>\n",
       "      <td>0</td>\n",
       "      <td>2.840059</td>\n",
       "      <td>1</td>\n",
       "    </tr>\n",
       "    <tr>\n",
       "      <th>19</th>\n",
       "      <td>2018-08-03</td>\n",
       "      <td>207.029999</td>\n",
       "      <td>208.740005</td>\n",
       "      <td>205.479996</td>\n",
       "      <td>207.990005</td>\n",
       "      <td>207.990005</td>\n",
       "      <td>33447400</td>\n",
       "      <td>Friday</td>\n",
       "      <td>-0.0096</td>\n",
       "      <td>0</td>\n",
       "      <td>0.288478</td>\n",
       "      <td>1</td>\n",
       "    </tr>\n",
       "    <tr>\n",
       "      <th>20</th>\n",
       "      <td>2018-08-06</td>\n",
       "      <td>208.000000</td>\n",
       "      <td>209.250000</td>\n",
       "      <td>207.070007</td>\n",
       "      <td>209.070007</td>\n",
       "      <td>209.070007</td>\n",
       "      <td>25398800</td>\n",
       "      <td>Monday</td>\n",
       "      <td>-0.0107</td>\n",
       "      <td>0</td>\n",
       "      <td>0.516574</td>\n",
       "      <td>1</td>\n",
       "    </tr>\n",
       "  </tbody>\n",
       "</table>\n",
       "</div>"
      ],
      "text/plain": [
       "         Date        Open        High         Low       Close   Adj Close  \\\n",
       "0  2018-07-09  189.500000  190.679993  189.300003  190.580002  190.580002   \n",
       "1  2018-07-10  190.710007  191.279999  190.179993  190.350006  190.350006   \n",
       "2  2018-07-11  188.500000  189.779999  187.610001  187.880005  187.880005   \n",
       "3  2018-07-12  189.529999  191.410004  189.309998  191.029999  191.029999   \n",
       "4  2018-07-13  191.080002  191.839996  190.899994  191.330002  191.330002   \n",
       "5  2018-07-16  191.520004  192.649994  190.419998  190.910004  190.910004   \n",
       "6  2018-07-17  189.750000  191.869995  189.199997  191.449997  191.449997   \n",
       "7  2018-07-18  191.779999  191.800003  189.929993  190.399994  190.399994   \n",
       "8  2018-07-19  189.690002  192.550003  189.690002  191.880005  191.880005   \n",
       "9  2018-07-20  191.779999  192.429993  190.169998  191.440002  191.440002   \n",
       "10 2018-07-23  190.679993  191.960007  189.559998  191.610001  191.610001   \n",
       "11 2018-07-24  192.449997  193.660004  192.050003  193.000000  193.000000   \n",
       "12 2018-07-25  193.059998  194.850006  192.429993  194.820007  194.820007   \n",
       "13 2018-07-26  194.610001  195.960007  193.610001  194.210007  194.210007   \n",
       "14 2018-07-27  194.990005  195.190002  190.100006  190.979996  190.979996   \n",
       "15 2018-07-30  191.899994  192.199997  189.070007  189.910004  189.910004   \n",
       "16 2018-07-31  190.300003  192.139999  189.339996  190.289993  190.289993   \n",
       "17 2018-08-01  199.130005  201.759995  197.309998  201.500000  201.500000   \n",
       "18 2018-08-02  200.580002  208.380005  200.350006  207.389999  207.389999   \n",
       "19 2018-08-03  207.029999  208.740005  205.479996  207.990005  207.990005   \n",
       "20 2018-08-06  208.000000  209.250000  207.070007  209.070007  209.070007   \n",
       "\n",
       "      Volume day_of_week  same_day_deta  same_day_strategy  next_close_delta  \\\n",
       "0   19756600      Monday        -0.0108                  0               NaN   \n",
       "1   15939100     Tuesday         0.0036                  1         -0.120828   \n",
       "2   18831500   Wednesday         0.0062                  1         -1.314669   \n",
       "3   18041100    Thursday        -0.0150                  0          1.648953   \n",
       "4   12513900      Friday        -0.0025                  0          0.156799   \n",
       "5   15043100      Monday         0.0061                  1         -0.219998   \n",
       "6   15534500     Tuesday        -0.0170                  0          0.282054   \n",
       "7   16393400   Wednesday         0.0138                  1         -0.551472   \n",
       "8   20286800    Thursday        -0.0219                  0          0.771321   \n",
       "9   20676200      Friday         0.0034                  1         -0.229839   \n",
       "10  15989400      Monday        -0.0093                  0          0.088721   \n",
       "11  18697900     Tuesday        -0.0055                  0          0.720207   \n",
       "12  16709900   Wednesday        -0.0176                  0          0.934199   \n",
       "13  19076000    Thursday         0.0040                  1         -0.314093   \n",
       "14  24024000      Friday         0.0401                  1         -1.691282   \n",
       "15  21029500      Monday         0.0199                  1         -0.563421   \n",
       "16  39373000     Tuesday         0.0001                  1          0.199689   \n",
       "17  67935700   Wednesday        -0.0237                  0          5.563279   \n",
       "18  62404000    Thursday        -0.0681                  0          2.840059   \n",
       "19  33447400      Friday        -0.0096                  0          0.288478   \n",
       "20  25398800      Monday        -0.0107                  0          0.516574   \n",
       "\n",
       "    next_column_strategy  \n",
       "0                      1  \n",
       "1                      0  \n",
       "2                      0  \n",
       "3                      1  \n",
       "4                      1  \n",
       "5                      0  \n",
       "6                      1  \n",
       "7                      0  \n",
       "8                      1  \n",
       "9                      0  \n",
       "10                     0  \n",
       "11                     1  \n",
       "12                     1  \n",
       "13                     0  \n",
       "14                     0  \n",
       "15                     0  \n",
       "16                     1  \n",
       "17                     1  \n",
       "18                     1  \n",
       "19                     1  \n",
       "20                     1  "
      ]
     },
     "execution_count": 9,
     "metadata": {},
     "output_type": "execute_result"
    }
   ],
   "source": [
    "dataDF"
   ]
  },
  {
   "cell_type": "markdown",
   "metadata": {
    "scrolled": true
   },
   "source": [
    "# monthly_analysis.csv "
   ]
  },
  {
   "cell_type": "code",
   "execution_count": 53,
   "metadata": {},
   "outputs": [],
   "source": [
    "monthly_analysis = pd.DataFrame({'Average_close_price':dataDF.groupby(pd.to_datetime(dataDF['Date']).dt.strftime('%B'))['Close'].mean(),\n",
    "             'Average_open_price':dataDF.groupby(pd.to_datetime(dataDF['Date']).dt.strftime('%B'))['Open'].mean(),\n",
    "             'Highest_close_price':dataDF.groupby(pd.to_datetime(dataDF['Date']).dt.strftime('%B'))['Close'].max(),\n",
    "             'Lowest_open_price':dataDF.groupby(pd.to_datetime(dataDF['Date']).dt.strftime('%B'))['Open'].min(),\n",
    "             'Highest_high':dataDF.groupby(pd.to_datetime(dataDF['Date']).dt.strftime('%B'))['High'].max(),\n",
    "             'Highest_low':dataDF.groupby(pd.to_datetime(dataDF['Date']).dt.strftime('%B'))['Low'].max(),\n",
    "             'Lowest_high':dataDF.groupby(pd.to_datetime(dataDF['Date']).dt.strftime('%B'))['High'].min(),\n",
    "             'Lowest_low': dataDF.groupby(pd.to_datetime(dataDF['Date']).dt.strftime('%B'))['Low'].min()})\n",
    "\n",
    "monthly_analysis.to_csv('monthly_analysis.csv', sep=',')"
   ]
  },
  {
   "cell_type": "markdown",
   "metadata": {},
   "source": [
    "# plot Open and Close prices"
   ]
  },
  {
   "cell_type": "code",
   "execution_count": 62,
   "metadata": {
    "scrolled": false
   },
   "outputs": [],
   "source": [
    "import matplotlib.pyplot as plt \n",
    "\n"
   ]
  },
  {
   "cell_type": "code",
   "execution_count": 66,
   "metadata": {},
   "outputs": [
    {
     "data": {
      "image/png": "[encoded data removed]",
      "text/plain": [
       "<matplotlib.figure.Figure at 0x7ff6799c6410>"
      ]
     },
     "metadata": {},
     "output_type": "display_data"
    }
   ],
   "source": [
    "plt.figure\n",
    "plt.plot(dataDF['Close'])\n",
    "plt.plot(dataDF['Open'],'r')\n",
    "plt.title('Close vs Open Prices')\n",
    "plt.show()"
   ]
  },
  {
   "cell_type": "code",
   "execution_count": 65,
   "metadata": {
    "scrolled": true
   },
   "outputs": [
    {
     "data": {
      "image/png": "[encoded data removed]",
      "text/plain": [
       "<matplotlib.figure.Figure at 0x7ff679d25ed0>"
      ]
     },
     "metadata": {},
     "output_type": "display_data"
    }
   ],
   "source": [
    "plt.plot(dataDF['Open'])\n",
    "plt.title('Open Prices')\n",
    "plt.show()"
   ]
  },
  {
   "cell_type": "code",
   "execution_count": 67,
   "metadata": {},
   "outputs": [
    {
     "data": {
      "image/png": "[encoded data removed]",
      "text/plain": [
       "<matplotlib.figure.Figure at 0x7ff679962850>"
      ]
     },
     "metadata": {},
     "output_type": "display_data"
    }
   ],
   "source": [
    "plt.plot(dataDF['Close'])\n",
    "plt.title('Close Prices')\n",
    "plt.show()"
   ]
  },
  {
   "cell_type": "markdown",
   "metadata": {},
   "source": [
    "# plot \"same_day_delta\""
   ]
  },
  {
   "cell_type": "code",
   "execution_count": null,
   "metadata": {
    "collapsed": true
   },
   "outputs": [],
   "source": [
    "plt.plot(dataDF['same_day_delta'])\n",
    "plt.title('same_day_delta')\n",
    "plt.show()"
   ]
  }
 ],
 "metadata": {
  "kernelspec": {
   "display_name": "Python 2",
   "language": "python",
   "name": "python2"
  },
  "language_info": {
   "codemirror_mode": {
    "name": "ipython",
    "version": 2
   },
   "file_extension": ".py",
   "mimetype": "text/x-python",
   "name": "python",
   "nbconvert_exporter": "python",
   "pygments_lexer": "ipython2",
   "version": "2.7.13"
  }
 },
 "nbformat": 4,
 "nbformat_minor": 2
}
